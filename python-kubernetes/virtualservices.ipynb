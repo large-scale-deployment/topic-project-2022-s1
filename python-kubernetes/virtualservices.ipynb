{
 "cells": [
  {
   "cell_type": "code",
   "execution_count": 4,
   "metadata": {},
   "outputs": [],
   "source": [
    "from kubernetes import client, config\n",
    "config.load_config()"
   ]
  },
  {
   "cell_type": "code",
   "execution_count": 22,
   "metadata": {},
   "outputs": [],
   "source": [
    "def get_virtualservice(name, namespace='default'):\n",
    "    apiCustObject = client.CustomObjectsApi() # Patch virtual service\n",
    "    params = dict(\n",
    "        group ='networking.istio.io',\n",
    "        version = 'v1beta1',\n",
    "        namespace = namespace,\n",
    "        plural='virtualservices',\n",
    "        name = name\n",
    "    )\n",
    "    policy = apiCustObject.get_namespaced_custom_object(**params)\n",
    "    return policy\n",
    "\n",
    "def patch_virtualservice(service):\n",
    "    apiCustObject = client.CustomObjectsApi() # Patch authorisation policy\n",
    "    name = service['metadata']['name']\n",
    "    namespace = service['metadata']['namespace']\n",
    "\n",
    "    params = dict(\n",
    "        group ='networking.istio.io',\n",
    "        version = 'v1beta1',\n",
    "        namespace = namespace,\n",
    "        plural='virtualservices',\n",
    "        name = name\n",
    "    )\n",
    "\n",
    "    patch_params = dict(body = service, **params)\n",
    "    apiCustObject.patch_namespaced_custom_object(**patch_params)\n",
    "    # Read after patch\n",
    "    return apiCustObject.get_namespaced_custom_object(**params)\n",
    "\n",
    "def traffic_shifting(name, weights, namespace='default'):\n",
    "    service = get_virtualservice(name, namespace)\n",
    "    http_route = service['spec']['http'][0]['route']\n",
    "    for route in http_route:\n",
    "      dest = route['destination']\n",
    "      full_name = f\"{dest['host']}_{dest['subset']}\"\n",
    "      if full_name in weights:\n",
    "        route['weight'] = weights[full_name]\n",
    "\n",
    "    patch_virtualservice(service)\n"
   ]
  },
  {
   "cell_type": "code",
   "execution_count": 23,
   "metadata": {},
   "outputs": [],
   "source": [
    "traffic_shifting('reviews', {'reviews_v1': 70,'reviews_v3': 30 })"
   ]
  },
  {
   "cell_type": "code",
   "execution_count": 6,
   "metadata": {},
   "outputs": [
    {
     "data": {
      "text/plain": [
       "{'apiVersion': 'networking.istio.io/v1beta1',\n",
       " 'kind': 'VirtualService',\n",
       " 'metadata': {'annotations': {'kubectl.kubernetes.io/last-applied-configuration': '{\"apiVersion\":\"networking.istio.io/v1alpha3\",\"kind\":\"VirtualService\",\"metadata\":{\"annotations\":{},\"name\":\"reviews\",\"namespace\":\"default\"},\"spec\":{\"hosts\":[\"reviews\"],\"http\":[{\"route\":[{\"destination\":{\"host\":\"reviews\",\"subset\":\"v1\"},\"weight\":50},{\"destination\":{\"host\":\"reviews\",\"subset\":\"v3\"},\"weight\":50}]}]}}\\n'},\n",
       "  'creationTimestamp': '2022-05-09T03:15:08Z',\n",
       "  'generation': 4,\n",
       "  'managedFields': [{'apiVersion': 'networking.istio.io/v1alpha3',\n",
       "    'fieldsType': 'FieldsV1',\n",
       "    'fieldsV1': {'f:metadata': {'f:annotations': {'.': {},\n",
       "       'f:kubectl.kubernetes.io/last-applied-configuration': {}}},\n",
       "     'f:spec': {'.': {}, 'f:hosts': {}}},\n",
       "    'manager': 'kubectl-client-side-apply',\n",
       "    'operation': 'Update',\n",
       "    'time': '2022-05-09T03:15:08Z'},\n",
       "   {'apiVersion': 'networking.istio.io/v1beta1',\n",
       "    'fieldsType': 'FieldsV1',\n",
       "    'fieldsV1': {'f:spec': {'f:http': {}}},\n",
       "    'manager': 'kubectl-edit',\n",
       "    'operation': 'Update',\n",
       "    'time': '2022-05-09T03:19:54Z'}],\n",
       "  'name': 'reviews',\n",
       "  'namespace': 'default',\n",
       "  'resourceVersion': '3571626',\n",
       "  'uid': '95e59215-e43d-4cdd-9a23-e30c1709384c'},\n",
       " 'spec': {'hosts': ['reviews'],\n",
       "  'http': [{'route': [{'destination': {'host': 'reviews', 'subset': 'v1'},\n",
       "      'weight': 50},\n",
       "     {'destination': {'host': 'reviews', 'subset': 'v3'}, 'weight': 50}]}]}}"
      ]
     },
     "execution_count": 6,
     "metadata": {},
     "output_type": "execute_result"
    }
   ],
   "source": [
    "get_virtualservice('reviews')"
   ]
  }
 ],
 "metadata": {
  "interpreter": {
   "hash": "935f7eb4eed6de91245bf54e413f220e0417430ebfb642ce5032e74bef9702cd"
  },
  "kernelspec": {
   "display_name": "Python 3.8.10 ('.p3')",
   "language": "python",
   "name": "python3"
  },
  "language_info": {
   "codemirror_mode": {
    "name": "ipython",
    "version": 3
   },
   "file_extension": ".py",
   "mimetype": "text/x-python",
   "name": "python",
   "nbconvert_exporter": "python",
   "pygments_lexer": "ipython3",
   "version": "3.8.10"
  },
  "orig_nbformat": 4
 },
 "nbformat": 4,
 "nbformat_minor": 2
}
