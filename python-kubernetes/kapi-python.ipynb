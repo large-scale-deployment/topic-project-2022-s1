{
 "cells": [
  {
   "cell_type": "code",
   "execution_count": null,
   "metadata": {},
   "outputs": [],
   "source": [
    "!pip install kubernetes"
   ]
  },
  {
   "cell_type": "code",
   "execution_count": null,
   "metadata": {},
   "outputs": [],
   "source": [
    "from kubernetes import client, config\n",
    "\n",
    "# Configs can be set in Configuration class directly or using helper utility\n",
    "config.load_kube_config()\n",
    "\n",
    "v1 = client.CoreV1Api()\n",
    "print(\"Listing pods with their IPs:\")\n",
    "ret = v1.list_pod_for_all_namespaces(watch=False)\n",
    "for i in ret.items:\n",
    "    print(i.status.conditions)\n",
    "    print(\"%s\\t%s\\t%s\" % (i.status.pod_ip, i.metadata.namespace, i.metadata.name))"
   ]
  },
  {
   "cell_type": "code",
   "execution_count": 4,
   "metadata": {},
   "outputs": [
    {
     "name": "stdout",
     "output_type": "stream",
     "text": [
      "[{'last_probe_time': None,\n",
      " 'last_transition_time': datetime.datetime(2022, 5, 6, 16, 50, 51, tzinfo=tzlocal()),\n",
      " 'message': None,\n",
      " 'reason': None,\n",
      " 'status': 'True',\n",
      " 'type': 'Initialized'}, {'last_probe_time': None,\n",
      " 'last_transition_time': datetime.datetime(2022, 5, 6, 16, 51, 6, tzinfo=tzlocal()),\n",
      " 'message': None,\n",
      " 'reason': None,\n",
      " 'status': 'True',\n",
      " 'type': 'Ready'}, {'last_probe_time': None,\n",
      " 'last_transition_time': datetime.datetime(2022, 5, 6, 16, 51, 6, tzinfo=tzlocal()),\n",
      " 'message': None,\n",
      " 'reason': None,\n",
      " 'status': 'True',\n",
      " 'type': 'ContainersReady'}, {'last_probe_time': None,\n",
      " 'last_transition_time': datetime.datetime(2022, 5, 6, 16, 50, 50, tzinfo=tzlocal()),\n",
      " 'message': None,\n",
      " 'reason': None,\n",
      " 'status': 'True',\n",
      " 'type': 'PodScheduled'}]\n",
      "[{'last_probe_time': None,\n",
      " 'last_transition_time': datetime.datetime(2022, 5, 6, 16, 51, 31, tzinfo=tzlocal()),\n",
      " 'message': None,\n",
      " 'reason': None,\n",
      " 'status': 'True',\n",
      " 'type': 'Initialized'}, {'last_probe_time': None,\n",
      " 'last_transition_time': datetime.datetime(2022, 5, 6, 16, 51, 45, tzinfo=tzlocal()),\n",
      " 'message': None,\n",
      " 'reason': None,\n",
      " 'status': 'True',\n",
      " 'type': 'Ready'}, {'last_probe_time': None,\n",
      " 'last_transition_time': datetime.datetime(2022, 5, 6, 16, 51, 45, tzinfo=tzlocal()),\n",
      " 'message': None,\n",
      " 'reason': None,\n",
      " 'status': 'True',\n",
      " 'type': 'ContainersReady'}, {'last_probe_time': None,\n",
      " 'last_transition_time': datetime.datetime(2022, 5, 6, 16, 51, 31, tzinfo=tzlocal()),\n",
      " 'message': None,\n",
      " 'reason': None,\n",
      " 'status': 'True',\n",
      " 'type': 'PodScheduled'}]\n"
     ]
    }
   ],
   "source": [
    "ret = v1.list_namespaced_pod(\"default\")\n",
    "pods = []\n",
    "for i in ret.items:\n",
    "  pods.append({\n",
    "    'name': i.metadata.name,\n",
    "    'namespace': i.metadata.namespace,\n",
    "    'image':\n",
    "    \n",
    "  })\n",
    "  print(i.status.conditions)\n"
   ]
  },
  {
   "cell_type": "code",
   "execution_count": null,
   "metadata": {},
   "outputs": [],
   "source": [
    "ret = v1.list_pod_for_all_namespaces(watch=False)\n",
    "ret.items[0]"
   ]
  }
 ],
 "metadata": {
  "interpreter": {
   "hash": "916dbcbb3f70747c44a77c7bcd40155683ae19c65e1c03b4aa3499c5328201f1"
  },
  "kernelspec": {
   "display_name": "Python 3.8.10 64-bit",
   "language": "python",
   "name": "python3"
  },
  "language_info": {
   "codemirror_mode": {
    "name": "ipython",
    "version": 3
   },
   "file_extension": ".py",
   "mimetype": "text/x-python",
   "name": "python",
   "nbconvert_exporter": "python",
   "pygments_lexer": "ipython3",
   "version": "3.8.10"
  },
  "orig_nbformat": 4
 },
 "nbformat": 4,
 "nbformat_minor": 2
}
