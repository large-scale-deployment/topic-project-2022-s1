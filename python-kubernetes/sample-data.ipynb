{
 "cells": [
  {
   "cell_type": "code",
   "execution_count": null,
   "metadata": {},
   "outputs": [],
   "source": [
    "from kubernetes import config\n",
    "from lib import k8s_deployments, k8s_metrics\n",
    "config.load_kube_config()"
   ]
  },
  {
   "cell_type": "code",
   "execution_count": 3,
   "metadata": {},
   "outputs": [
    {
     "data": {
      "text/plain": [
       "{'kind': 'PodMetrics',\n",
       " 'apiVersion': 'metrics.k8s.io/v1beta1',\n",
       " 'metadata': {'name': 'counter',\n",
       "  'namespace': 'default',\n",
       "  'creationTimestamp': '2022-06-05T01:35:42Z',\n",
       "  'labels': {'security.istio.io/tlsMode': 'istio',\n",
       "   'service.istio.io/canonical-name': 'counter',\n",
       "   'service.istio.io/canonical-revision': 'latest'}},\n",
       " 'timestamp': '2022-06-05T01:35:24Z',\n",
       " 'window': '15.838s',\n",
       " 'containers': [{'name': 'count',\n",
       "   'usage': {'cpu': '711170n', 'memory': '1256Ki'}},\n",
       "  {'name': 'istio-proxy', 'usage': {'cpu': '1586363n', 'memory': '21904Ki'}}]}"
      ]
     },
     "execution_count": 3,
     "metadata": {},
     "output_type": "execute_result"
    }
   ],
   "source": [
    "k8s_metrics.get_resource_usage_object_by_pod('counter', 'default')"
   ]
  }
 ],
 "metadata": {
  "interpreter": {
   "hash": "935f7eb4eed6de91245bf54e413f220e0417430ebfb642ce5032e74bef9702cd"
  },
  "kernelspec": {
   "display_name": "Python 3.8.10 ('.p3')",
   "language": "python",
   "name": "python3"
  },
  "language_info": {
   "codemirror_mode": {
    "name": "ipython",
    "version": 3
   },
   "file_extension": ".py",
   "mimetype": "text/x-python",
   "name": "python",
   "nbconvert_exporter": "python",
   "pygments_lexer": "ipython3",
   "version": "3.8.10"
  },
  "orig_nbformat": 4
 },
 "nbformat": 4,
 "nbformat_minor": 2
}
