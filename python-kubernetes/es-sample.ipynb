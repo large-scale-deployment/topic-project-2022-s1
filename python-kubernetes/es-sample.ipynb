{
 "cells": [
  {
   "cell_type": "code",
   "execution_count": 15,
   "metadata": {},
   "outputs": [],
   "source": [
    "from elasticsearch import Elasticsearch\n",
    "client = Elasticsearch()"
   ]
  },
  {
   "cell_type": "code",
   "execution_count": 82,
   "metadata": {},
   "outputs": [],
   "source": [
    "query = {\n",
    "    'bool': {\n",
    "        'must':{'match': {'response_code':403}},\n",
    "        'filter':{\n",
    "            'range': {\n",
    "                'start_time': {\n",
    "                    'gte': '2022-05-15'\n",
    "                }\n",
    "            }\n",
    "        }\n",
    "    }\n",
    "}\n",
    "response = client.search(\n",
    "    index=\"envoy-k8s\",\n",
    "    query=query,\n",
    "    sort={\"start_time\": {\"order\": \"desc\"}},\n",
    "    size = 1000\n",
    ")"
   ]
  },
  {
   "cell_type": "code",
   "execution_count": 80,
   "metadata": {},
   "outputs": [
    {
     "data": {
      "text/plain": [
       "{'total': {'value': 0, 'relation': 'eq'}, 'max_score': None, 'hits': []}"
      ]
     },
     "execution_count": 80,
     "metadata": {},
     "output_type": "execute_result"
    }
   ],
   "source": [
    "response['hits']"
   ]
  },
  {
   "cell_type": "code",
   "execution_count": 83,
   "metadata": {},
   "outputs": [
    {
     "name": "stdout",
     "output_type": "stream",
     "text": [
      "total: 40\n",
      "10.244.1.1: 21\n",
      "10.244.1.1,10.244.1.1: 4\n",
      "56.5.6.7, 72.9.5.6, 98.1.2.3,10.244.1.1: 15\n"
     ]
    }
   ],
   "source": [
    "ips = {}\n",
    "for hit in response['hits']['hits']:\n",
    "  source = hit['_source']\n",
    "  x_forwarded_for = source['x_forwarded_for']\n",
    "  if source['response_code'] == '403':\n",
    "    count = ips.get(x_forwarded_for, 0)\n",
    "    count = count + 1\n",
    "    ips[x_forwarded_for] = count\n",
    "\n",
    "print(f\"total: {response['hits']['total']['value']}\")\n",
    "for ips, count in ips.items():\n",
    "  print(f\"{ips}: {count}\")"
   ]
  },
  {
   "cell_type": "code",
   "execution_count": 17,
   "metadata": {},
   "outputs": [
    {
     "data": {
      "text/plain": [
       "{'name': 'elasticsearch',\n",
       " 'cluster_name': 'docker-cluster',\n",
       " 'cluster_uuid': 'olYMaE7kRSmPJJ5kOuHg4g',\n",
       " 'version': {'number': '7.9.1',\n",
       "  'build_flavor': 'default',\n",
       "  'build_type': 'docker',\n",
       "  'build_hash': '083627f112ba94dffc1232e8b42b73492789ef91',\n",
       "  'build_date': '2020-09-01T21:22:21.964974Z',\n",
       "  'build_snapshot': False,\n",
       "  'lucene_version': '8.6.2',\n",
       "  'minimum_wire_compatibility_version': '6.8.0',\n",
       "  'minimum_index_compatibility_version': '6.0.0-beta1'},\n",
       " 'tagline': 'You Know, for Search'}"
      ]
     },
     "execution_count": 17,
     "metadata": {},
     "output_type": "execute_result"
    }
   ],
   "source": [
    "client.info()"
   ]
  }
 ],
 "metadata": {
  "interpreter": {
   "hash": "935f7eb4eed6de91245bf54e413f220e0417430ebfb642ce5032e74bef9702cd"
  },
  "kernelspec": {
   "display_name": "Python 3.8.10 ('.p3')",
   "language": "python",
   "name": "python3"
  },
  "language_info": {
   "codemirror_mode": {
    "name": "ipython",
    "version": 3
   },
   "file_extension": ".py",
   "mimetype": "text/x-python",
   "name": "python",
   "nbconvert_exporter": "python",
   "pygments_lexer": "ipython3",
   "version": "3.8.10"
  },
  "orig_nbformat": 4
 },
 "nbformat": 4,
 "nbformat_minor": 2
}
