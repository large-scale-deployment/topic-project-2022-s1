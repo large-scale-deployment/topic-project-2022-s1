{
 "cells": [
  {
   "cell_type": "code",
   "execution_count": null,
   "metadata": {},
   "outputs": [],
   "source": [
    "from kubernetes import client, config\n",
    "import json"
   ]
  },
  {
   "cell_type": "code",
   "execution_count": 2,
   "metadata": {},
   "outputs": [
    {
     "name": "stdout",
     "output_type": "stream",
     "text": [
      "Listing pods with their IPs:\n",
      "10.244.1.31\tdefault\thttpbin-85d76b4bb6-5fptx\n",
      "10.244.1.11\tdefault\thttpbin-85d76b4bb6-k86j4\n"
     ]
    }
   ],
   "source": [
    "from kubernetes import client, config\n",
    "\n",
    "# Configs can be set in Configuration class directly or using helper utility\n",
    "config.load_kube_config()\n",
    "\n",
    "v1 = client.CoreV1Api()\n",
    "print(\"Listing pods with their IPs:\")\n",
    "ret = v1.list_namespaced_pod(namespace='default', label_selector='app=httpbin')\n",
    "for i in ret.items:\n",
    "    #print(i.status.conditions)\n",
    "    print(\"%s\\t%s\\t%s\" % (i.status.pod_ip, i.metadata.namespace, i.metadata.name))"
   ]
  }
 ],
 "metadata": {
  "interpreter": {
   "hash": "935f7eb4eed6de91245bf54e413f220e0417430ebfb642ce5032e74bef9702cd"
  },
  "kernelspec": {
   "display_name": "Python 3.8.10 ('.p3')",
   "language": "python",
   "name": "python3"
  },
  "language_info": {
   "codemirror_mode": {
    "name": "ipython",
    "version": 3
   },
   "file_extension": ".py",
   "mimetype": "text/x-python",
   "name": "python",
   "nbconvert_exporter": "python",
   "pygments_lexer": "ipython3",
   "version": "3.8.10"
  },
  "orig_nbformat": 4
 },
 "nbformat": 4,
 "nbformat_minor": 2
}
