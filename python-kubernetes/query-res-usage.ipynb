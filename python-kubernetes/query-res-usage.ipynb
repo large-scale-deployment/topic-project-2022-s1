{
 "cells": [
  {
   "cell_type": "code",
   "execution_count": 1,
   "metadata": {},
   "outputs": [],
   "source": [
    "#%pip install kubernetes\n",
    "#%pip install humanfriendly"
   ]
  },
  {
   "cell_type": "code",
   "execution_count": 1,
   "metadata": {},
   "outputs": [
    {
     "name": "stdout",
     "output_type": "stream",
     "text": [
      "app: details-v1, cpu_rate: nan, memory_rate: nan, cpu_usage: 1.633056000, memory_usage: 43.93 MiB, cpu_limit: 0, memory_limit: 0 bytes\n",
      "  details-v1-5498c86cf5-4wxd7, cpu: 1.633056000 bytes, memory: 43.93 MiB\n",
      "app: fortio-deploy, cpu_rate: nan, memory_rate: nan, cpu_usage: 1.798533000, memory_usage: 31.44 MiB, cpu_limit: 0, memory_limit: 0 bytes\n",
      "  fortio-deploy-7dcd84c469-f2rdm, cpu: 1.798533000 bytes, memory: 31.44 MiB\n",
      "app: httpbin, cpu_rate: nan, memory_rate: nan, cpu_usage: 6.025250000, memory_usage: 184.63 MiB, cpu_limit: 0, memory_limit: 0 bytes\n",
      "  httpbin-85d76b4bb6-5fptx, cpu: 1.806933000 bytes, memory: 64.37 MiB\n",
      "  httpbin-85d76b4bb6-6ggpq, cpu: 2.132522000 bytes, memory: 63.16 MiB\n",
      "  httpbin-85d76b4bb6-k86j4, cpu: 2.085795000 bytes, memory: 57.1 MiB\n",
      "app: php-apache, cpu_rate: 0.00, memory_rate: nan, cpu_usage: 3.746925000, memory_usage: 88.36 MiB, cpu_limit: 1000.000, memory_limit: 0 bytes\n",
      "  php-apache-7656945b6b-75fzf, cpu: 1.873159000 bytes, memory: 46.57 MiB\n",
      "  php-apache-7656945b6b-n68pj, cpu: 1.873766000 bytes, memory: 41.79 MiB\n",
      "app: productpage-v1, cpu_rate: nan, memory_rate: nan, cpu_usage: 7.381884000, memory_usage: 58.77 MiB, cpu_limit: 0, memory_limit: 0 bytes\n",
      "  productpage-v1-65b75f6885-96hl4, cpu: 7.381884000 bytes, memory: 58.77 MiB\n",
      "app: ratings-v1, cpu_rate: nan, memory_rate: nan, cpu_usage: 2.445978000, memory_usage: 31.08 MiB, cpu_limit: 0, memory_limit: 0 bytes\n",
      "  ratings-v1-b477cf6cf-9zr5n, cpu: 2.445978000 bytes, memory: 31.08 MiB\n",
      "app: reviews-v1, cpu_rate: nan, memory_rate: nan, cpu_usage: 4.473706000, memory_usage: 97.18 MiB, cpu_limit: 0, memory_limit: 0 bytes\n",
      "  reviews-v1-79d546878f-4wbjf, cpu: 4.473706000 bytes, memory: 97.18 MiB\n",
      "app: reviews-v2, cpu_rate: nan, memory_rate: nan, cpu_usage: 3.059791000, memory_usage: 99.18 MiB, cpu_limit: 0, memory_limit: 0 bytes\n",
      "  reviews-v2-548c57f459-bzwbq, cpu: 3.059791000 bytes, memory: 99.18 MiB\n",
      "app: reviews-v3, cpu_rate: nan, memory_rate: nan, cpu_usage: 3.707624000, memory_usage: 105.57 MiB, cpu_limit: 0, memory_limit: 0 bytes\n",
      "  reviews-v3-6dd79655b9-d4pdx, cpu: 3.707624000 bytes, memory: 105.57 MiB\n"
     ]
    }
   ],
   "source": [
    "from kubernetes import config\n",
    "from lib import k8s_deployments, k8s_metrics\n",
    "config.load_kube_config()\n",
    "\n",
    "for d in k8s_deployments.get_namespaced_deployments('default').items:\n",
    "    print(k8s_metrics.get_resource_usage_by_deployment(d))"
   ]
  },
  {
   "cell_type": "code",
   "execution_count": 3,
   "metadata": {},
   "outputs": [
    {
     "data": {
      "text/plain": [
       "Decimal('0.500')"
      ]
     },
     "execution_count": 3,
     "metadata": {},
     "output_type": "execute_result"
    }
   ],
   "source": [
    "# https://github.com/kubernetes-client/python/blob/master/kubernetes/utils/quantity.py\n",
    "from kubernetes.utils import quantity\n",
    "quantity.parse_quantity(\"40Mi\")\n",
    "quantity.parse_quantity(\"500m\")"
   ]
  }
 ],
 "metadata": {
  "interpreter": {
   "hash": "7b1f849e0016a3b5a6a608082fcfffba947ef2928417a0359512beb778b7451c"
  },
  "kernelspec": {
   "display_name": "Python 3.8.9 64-bit",
   "language": "python",
   "name": "python3"
  },
  "language_info": {
   "codemirror_mode": {
    "name": "ipython",
    "version": 3
   },
   "file_extension": ".py",
   "mimetype": "text/x-python",
   "name": "python",
   "nbconvert_exporter": "python",
   "pygments_lexer": "ipython3",
   "version": "3.8.9"
  },
  "orig_nbformat": 4
 },
 "nbformat": 4,
 "nbformat_minor": 2
}
