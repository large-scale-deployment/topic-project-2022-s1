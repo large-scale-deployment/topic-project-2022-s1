{
 "cells": [
  {
   "cell_type": "code",
   "execution_count": null,
   "metadata": {},
   "outputs": [],
   "source": [
    "%pip install kubernetes"
   ]
  },
  {
   "cell_type": "code",
   "execution_count": 88,
   "metadata": {},
   "outputs": [],
   "source": [
    "from kubernetes import client, config\n",
    "import json\n",
    "config.load_kube_config()\n",
    "\n",
    "v1 = client.CoreV1Api()"
   ]
  },
  {
   "cell_type": "code",
   "execution_count": 89,
   "metadata": {},
   "outputs": [
    {
     "data": {
      "text/plain": [
       "Decimal('0.003')"
      ]
     },
     "execution_count": 89,
     "metadata": {},
     "output_type": "execute_result"
    }
   ],
   "source": [
    "# https://github.com/kubernetes-client/python/blob/master/kubernetes/utils/quantity.py\n",
    "from kubernetes.utils import quantity\n",
    "quantity.parse_quantity(\"40Mi\")\n",
    "quantity.parse_quantity(\"3m\")"
   ]
  },
  {
   "cell_type": "code",
   "execution_count": 120,
   "metadata": {},
   "outputs": [],
   "source": [
    "def get_pod_usage(containers):\n",
    "  memory = 0\n",
    "  cpu = 0\n",
    "  if isinstance(containers, list) and isinstance(containers[0], dict):\n",
    "    assert len(containers) <= 2, \"Only 2 containers allowed\"\n",
    "    for c in containers:\n",
    "      cpu += quantity.parse_quantity(c['usage']['cpu'])\n",
    "      memory += quantity.parse_quantity(c['usage']['memory'])\n",
    "  else:\n",
    "    for c in containers:\n",
    "      limits = c.resources.limits\n",
    "      if limits is None:\n",
    "        continue\n",
    "      cpu += quantity.parse_quantity(limits['cpu'])\n",
    "      memory += quantity.parse_quantity(limits['memory'])\n",
    "  return dict(cpu = cpu, memory = memory)"
   ]
  },
  {
   "cell_type": "code",
   "execution_count": 91,
   "metadata": {},
   "outputs": [],
   "source": [
    "# kubectl get --raw \"/apis/metrics.k8s.io/v1beta1/nodes\"\n",
    "# https://kubernetes.io/docs/tasks/debug/debug-cluster/resource-metrics-pipeline/\n",
    "api = client.CustomObjectsApi()\n",
    "resource = api.list_namespaced_custom_object(group=\"metrics.k8s.io\",version=\"v1beta1\", namespace=\"default\", plural=\"pods\")\n"
   ]
  },
  {
   "cell_type": "code",
   "execution_count": 126,
   "metadata": {},
   "outputs": [
    {
     "name": "stdout",
     "output_type": "stream",
     "text": [
      "name: counter, cpu: 3.089643000/2000, memory: 36.328125/1024 \n",
      "name: counter, cpu: 3, memory: 36 \n",
      "percent: 0.0015448215, 0.0354766845703125\n",
      "name: details-v1-5498c86cf5-4wxd7, cpu: 2.100719000/2000, memory: 49.51171875/1024 \n",
      "name: details-v1-5498c86cf5-4wxd7, cpu: 2, memory: 50 \n",
      "percent: 0.0010503595, 0.048351287841796875\n",
      "name: httpbin-85d76b4bb6-5fptx, cpu: 3.402389000/2000, memory: 70.578125/1024 \n",
      "name: httpbin-85d76b4bb6-5fptx, cpu: 3, memory: 71 \n",
      "percent: 0.0017011945, 0.0689239501953125\n",
      "name: httpbin-85d76b4bb6-k86j4, cpu: 2.501122000/2000, memory: 70.75/1024 \n",
      "name: httpbin-85d76b4bb6-k86j4, cpu: 3, memory: 71 \n",
      "percent: 0.001250561, 0.069091796875\n",
      "name: productpage-v1-65b75f6885-96hl4, cpu: 9.420458000/2000, memory: 76.578125/1024 \n",
      "name: productpage-v1-65b75f6885-96hl4, cpu: 9, memory: 77 \n",
      "percent: 0.004710229, 0.0747833251953125\n",
      "name: ratings-v1-b477cf6cf-9zr5n, cpu: 2.651078000/2000, memory: 39.94140625/1024 \n",
      "name: ratings-v1-b477cf6cf-9zr5n, cpu: 3, memory: 40 \n",
      "percent: 0.001325539, 0.039005279541015625\n",
      "name: reviews-v1-79d546878f-4wbjf, cpu: 3.961733000/2000, memory: 119.69921875/1024 \n",
      "name: reviews-v1-79d546878f-4wbjf, cpu: 4, memory: 120 \n",
      "percent: 0.0019808665, 0.116893768310546875\n",
      "name: reviews-v2-548c57f459-bzwbq, cpu: 5.018852000/2000, memory: 124.03125/1024 \n",
      "name: reviews-v2-548c57f459-bzwbq, cpu: 5, memory: 124 \n",
      "percent: 0.002509426, 0.121124267578125\n",
      "name: reviews-v3-6dd79655b9-d4pdx, cpu: 3.418996000/2000, memory: 122.38671875/1024 \n",
      "name: reviews-v3-6dd79655b9-d4pdx, cpu: 3, memory: 122 \n",
      "percent: 0.001709498, 0.119518280029296875\n"
     ]
    }
   ],
   "source": [
    "# resource return by `list_namespaced_custom_object` is a dict\n",
    "for pod in resource[\"items\"]:\n",
    "  pod_name = pod['metadata']['name']\n",
    "  # target_pod is a Pod object\n",
    "  target_pod = v1.read_namespaced_pod(pod_name, namespace='default')\n",
    "  limits = get_pod_usage(target_pod.spec.containers)\n",
    "  usage = get_pod_usage(pod['containers'])\n",
    "  cpu_usage = usage['cpu'] * 1000\n",
    "  memory_usage = usage['memory'] / 1024 / 1024\n",
    "  limit_cpu = limits['cpu'] * 1000\n",
    "  limit_memory = limits['memory']  / 1024 / 1024\n",
    "  print(f\"name: {pod_name}, cpu: {cpu_usage}/{limit_cpu}, memory: {memory_usage}/{limit_memory} \" )\n",
    "  print(f\"name: {pod_name}, cpu: {round(cpu_usage)}, memory: {round(memory_usage)} \" )\n",
    "  print(f\"percent: {cpu_usage / limit_cpu}, {memory_usage /limit_memory}\")"
   ]
  },
  {
   "cell_type": "code",
   "execution_count": 93,
   "metadata": {},
   "outputs": [
    {
     "data": {
      "text/plain": [
       "{'metadata': {'name': 'counter',\n",
       "  'namespace': 'default',\n",
       "  'creationTimestamp': '2022-05-12T03:23:18Z',\n",
       "  'labels': {'security.istio.io/tlsMode': 'istio',\n",
       "   'service.istio.io/canonical-name': 'counter',\n",
       "   'service.istio.io/canonical-revision': 'latest'}},\n",
       " 'timestamp': '2022-05-12T03:23:12Z',\n",
       " 'window': '15.927s',\n",
       " 'containers': [{'name': 'istio-proxy',\n",
       "   'usage': {'cpu': '2171530n', 'memory': '35536Ki'}},\n",
       "  {'name': 'count', 'usage': {'cpu': '918113n', 'memory': '1664Ki'}}]}"
      ]
     },
     "execution_count": 93,
     "metadata": {},
     "output_type": "execute_result"
    }
   ],
   "source": [
    "resource[\"items\"][0]"
   ]
  },
  {
   "cell_type": "code",
   "execution_count": 122,
   "metadata": {},
   "outputs": [
    {
     "data": {
      "text/plain": [
       "{'cpu': Decimal('2'), 'memory': Decimal('1073741824')}"
      ]
     },
     "execution_count": 122,
     "metadata": {},
     "output_type": "execute_result"
    }
   ],
   "source": [
    "# Resources set by user\n",
    "# Pod is Pod object\n",
    "pod_name = resource[\"items\"][0]['metadata']['name']\n",
    "pod = v1.read_namespaced_pod(pod_name, namespace='default')\n",
    "get_pod_usage(pod.spec.containers)\n",
    "# pod.spec.containers[0].resources"
   ]
  },
  {
   "cell_type": "code",
   "execution_count": 95,
   "metadata": {},
   "outputs": [
    {
     "name": "stdout",
     "output_type": "stream",
     "text": [
      "name: counter, cpu: 3.089643000, memory: 36.328125 \n",
      "name: counter, cpu: 3, memory: 36 \n"
     ]
    }
   ],
   "source": [
    "usage = get_pod_usage(resource[\"items\"][0])\n",
    "cpu_usage = usage['cpu'] * 1000\n",
    "memory_usage = usage['memory'] / 1024 / 1024\n",
    "print(f\"name: {pod_name}, cpu: {cpu_usage}, memory: {memory_usage} \" )\n",
    "print(f\"name: {pod_name}, cpu: {round(cpu_usage)}, memory: {round(memory_usage)} \" )"
   ]
  },
  {
   "cell_type": "code",
   "execution_count": 115,
   "metadata": {},
   "outputs": [
    {
     "data": {
      "text/plain": [
       "{'cpu': '2', 'memory': '1Gi'}"
      ]
     },
     "execution_count": 115,
     "metadata": {},
     "output_type": "execute_result"
    }
   ],
   "source": [
    "ret = v1.list_namespaced_pod(namespace='default')\n",
    "ret.items[0].spec.containers[-1].resources.limits"
   ]
  }
 ],
 "metadata": {
  "interpreter": {
   "hash": "935f7eb4eed6de91245bf54e413f220e0417430ebfb642ce5032e74bef9702cd"
  },
  "kernelspec": {
   "display_name": "Python 3.8.10 ('.p3')",
   "language": "python",
   "name": "python3"
  },
  "language_info": {
   "codemirror_mode": {
    "name": "ipython",
    "version": 3
   },
   "file_extension": ".py",
   "mimetype": "text/x-python",
   "name": "python",
   "nbconvert_exporter": "python",
   "pygments_lexer": "ipython3",
   "version": "3.8.10"
  },
  "orig_nbformat": 4
 },
 "nbformat": 4,
 "nbformat_minor": 2
}
