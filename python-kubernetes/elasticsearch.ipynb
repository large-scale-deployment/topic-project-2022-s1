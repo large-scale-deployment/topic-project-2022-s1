{
 "cells": [
  {
   "cell_type": "code",
   "execution_count": 3,
   "metadata": {},
   "outputs": [
    {
     "name": "stdout",
     "output_type": "stream",
     "text": [
      "Requirement already satisfied: elasticsearch==7.17.3 in /mnt/data_wxw/wxw/.p3/lib/python3.8/site-packages (7.17.3)\n",
      "Requirement already satisfied: certifi in /mnt/data_wxw/wxw/.p3/lib/python3.8/site-packages (from elasticsearch==7.17.3) (2021.10.8)\n",
      "Requirement already satisfied: urllib3<2,>=1.21.1 in /mnt/data_wxw/wxw/.p3/lib/python3.8/site-packages (from elasticsearch==7.17.3) (1.26.9)\n",
      "Note: you may need to restart the kernel to use updated packages.\n"
     ]
    }
   ],
   "source": [
    "%pip install elasticsearch==7.17.3"
   ]
  },
  {
   "cell_type": "code",
   "execution_count": 4,
   "metadata": {},
   "outputs": [
    {
     "name": "stdout",
     "output_type": "stream",
     "text": [
      "Got 210 Hits:\n",
      "{'_index': 'envoy-k8s', '_type': '_doc', '_id': 'gjKHroABUy71rRX8e5Aq', '_score': 1.0, '_source': {'start_time': '2022-05-10T15:11:31.227Z', 'method': 'GET', 'x_envoy_original_path': '/details/0', 'protocol': 'HTTP/1.1', 'response_code': '200', 'response_flags': '-', 'response_code_details': 'via_upstream', 'connection_termination_details': '-', 'upstream_failure_reason': '-', 'bytes_received': '0', 'bytes_sent': '178', 'duration': '6', 'x_envoy_upstream_service_time': '5', 'x_forwarded_for': '-', 'user_agent': 'curl/7.68.0', 'x_request_id': '8cbddf69-8f26-9f8f-bce6-2238b965edd9', 'authority': 'details:9080', 'upstream_host': '10.244.1.6:9080', 'upstream_cluster': 'inbound|9080||', 'upstream_local_address': '127.0.0.6:50281', 'downstream_local_address': '10.244.1.6:9080', 'downstream_remote_address': '10.244.1.10:33808', 'requested_server_name': 'outbound_.9080_._.details.default.svc.cluster.local', 'route_name': 'default'}}\n"
     ]
    }
   ],
   "source": [
    "from datetime import datetime\n",
    "from elasticsearch import Elasticsearch\n",
    "es = Elasticsearch(\n",
    "  \"http://localhost:9200\"\n",
    ")\n",
    "\n",
    "resp = es.search(index=\"envoy-k8s\")\n",
    "print(\"Got %d Hits:\" % resp['hits']['total']['value'])\n",
    "for hit in resp['hits']['hits']:\n",
    "  # print(\"%(start_time)s %(took)s: %(text)s\" % hit[\"_source\"])\n",
    "  print(hit)\n",
    "  break"
   ]
  },
  {
   "cell_type": "code",
   "execution_count": 5,
   "metadata": {},
   "outputs": [
    {
     "data": {
      "text/plain": [
       "{'name': 'elasticsearch',\n",
       " 'cluster_name': 'docker-cluster',\n",
       " 'cluster_uuid': 'olYMaE7kRSmPJJ5kOuHg4g',\n",
       " 'version': {'number': '7.9.1',\n",
       "  'build_flavor': 'default',\n",
       "  'build_type': 'docker',\n",
       "  'build_hash': '083627f112ba94dffc1232e8b42b73492789ef91',\n",
       "  'build_date': '2020-09-01T21:22:21.964974Z',\n",
       "  'build_snapshot': False,\n",
       "  'lucene_version': '8.6.2',\n",
       "  'minimum_wire_compatibility_version': '6.8.0',\n",
       "  'minimum_index_compatibility_version': '6.0.0-beta1'},\n",
       " 'tagline': 'You Know, for Search'}"
      ]
     },
     "execution_count": 5,
     "metadata": {},
     "output_type": "execute_result"
    }
   ],
   "source": [
    "from elasticsearch import Elasticsearch\n",
    "client = Elasticsearch(\"http://localhost:9200\")\n",
    "resp = client.info()\n",
    "resp"
   ]
  },
  {
   "cell_type": "code",
   "execution_count": 6,
   "metadata": {},
   "outputs": [
    {
     "data": {
      "text/plain": [
       "'10.244.1.1'"
      ]
     },
     "execution_count": 6,
     "metadata": {},
     "output_type": "execute_result"
    }
   ],
   "source": [
    "res = client.search(index=\"envoy-k8s\", query={\"simple_query_string\": {'query':'productpage AND response_code:403'}})\n",
    "res['hits']['hits'][0]['_source']['x_forwarded_for']"
   ]
  }
 ],
 "metadata": {
  "interpreter": {
   "hash": "935f7eb4eed6de91245bf54e413f220e0417430ebfb642ce5032e74bef9702cd"
  },
  "kernelspec": {
   "display_name": "Python 3.8.10 ('.p3')",
   "language": "python",
   "name": "python3"
  },
  "language_info": {
   "codemirror_mode": {
    "name": "ipython",
    "version": 3
   },
   "file_extension": ".py",
   "mimetype": "text/x-python",
   "name": "python",
   "nbconvert_exporter": "python",
   "pygments_lexer": "ipython3",
   "version": "3.8.10"
  },
  "orig_nbformat": 4
 },
 "nbformat": 4,
 "nbformat_minor": 2
}
