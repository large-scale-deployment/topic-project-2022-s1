{
 "cells": [
  {
   "cell_type": "code",
   "execution_count": 1,
   "metadata": {},
   "outputs": [],
   "source": [
    "from kubernetes import client, config\n",
    "# Configs can be set in Configuration class directly or using helper utility\n",
    "config.load_kube_config()\n"
   ]
  },
  {
   "cell_type": "code",
   "execution_count": 2,
   "metadata": {},
   "outputs": [],
   "source": [
    "apiCoreV1 = client.CoreV1Api() # \n",
    "apiExtV1 = client.ApiextensionsV1Api() #  get api resources/custom resource definition\n",
    "apiCustObject = client.CustomObjectsApi() # Patch authorisation policy\n",
    "apiAppsV1 = client.AppsV1Api() # Patch scale"
   ]
  },
  {
   "cell_type": "code",
   "execution_count": 4,
   "metadata": {},
   "outputs": [
    {
     "data": {
      "text/plain": [
       "<kubernetes.client.api.autoscaling_v2_api.AutoscalingV2Api at 0x7f00ea9a2790>"
      ]
     },
     "execution_count": 4,
     "metadata": {},
     "output_type": "execute_result"
    }
   ],
   "source": [
    "client.AutoscalingV2Api()\n",
    "client.metr"
   ]
  }
 ],
 "metadata": {
  "interpreter": {
   "hash": "935f7eb4eed6de91245bf54e413f220e0417430ebfb642ce5032e74bef9702cd"
  },
  "kernelspec": {
   "display_name": "Python 3.8.10 ('.p3')",
   "language": "python",
   "name": "python3"
  },
  "language_info": {
   "codemirror_mode": {
    "name": "ipython",
    "version": 3
   },
   "file_extension": ".py",
   "mimetype": "text/x-python",
   "name": "python",
   "nbconvert_exporter": "python",
   "pygments_lexer": "ipython3",
   "version": "3.8.10"
  },
  "orig_nbformat": 4
 },
 "nbformat": 4,
 "nbformat_minor": 2
}
