{
 "cells": [
  {
   "cell_type": "code",
   "execution_count": 1,
   "metadata": {},
   "outputs": [],
   "source": [
    "from kubernetes import client, config\n",
    "# Configs can be set in Configuration class directly or using helper utility\n",
    "config.load_kube_config()\n"
   ]
  },
  {
   "cell_type": "code",
   "execution_count": 2,
   "metadata": {},
   "outputs": [],
   "source": [
    "apiCoreV1 = client.CoreV1Api() # \n",
    "apiExtV1 = client.ApiextensionsV1Api() #  get api resources/custom resource definition\n",
    "apiCustObject = client.CustomObjectsApi() # Patch authorisation policy\n",
    "apiAppsV1 = client.AppsV1Api() # Patch scale"
   ]
  },
  {
   "cell_type": "code",
   "execution_count": null,
   "metadata": {},
   "outputs": [],
   "source": [
    "apiExtV1.list_custom_resource_definition()"
   ]
  }
 ],
 "metadata": {
  "interpreter": {
   "hash": "7b1f849e0016a3b5a6a608082fcfffba947ef2928417a0359512beb778b7451c"
  },
  "kernelspec": {
   "display_name": "Python 3.8.9 64-bit",
   "language": "python",
   "name": "python3"
  },
  "language_info": {
   "codemirror_mode": {
    "name": "ipython",
    "version": 3
   },
   "file_extension": ".py",
   "mimetype": "text/x-python",
   "name": "python",
   "nbconvert_exporter": "python",
   "pygments_lexer": "ipython3",
   "version": "3.8.9"
  },
  "orig_nbformat": 4
 },
 "nbformat": 4,
 "nbformat_minor": 2
}
